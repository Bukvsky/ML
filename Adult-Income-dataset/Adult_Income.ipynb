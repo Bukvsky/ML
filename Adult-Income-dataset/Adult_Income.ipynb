{
 "cells": [
  {
   "cell_type": "code",
   "id": "initial_id",
   "metadata": {
    "collapsed": true,
    "ExecuteTime": {
     "end_time": "2025-06-26T11:04:52.371506Z",
     "start_time": "2025-06-26T11:04:52.368906Z"
    }
   },
   "source": [
    "import kagglehub\n",
    "import numpy as np\n",
    "import pandas as pd\n",
    "from collections import Counter\n",
    "from sklearn.metrics import accuracy_score"
   ],
   "outputs": [],
   "execution_count": 9
  },
  {
   "metadata": {
    "ExecuteTime": {
     "end_time": "2025-06-26T11:04:54.174027Z",
     "start_time": "2025-06-26T11:04:53.489336Z"
    }
   },
   "cell_type": "code",
   "source": [
    "# Download latest version\n",
    "path = kagglehub.dataset_download(\"wenruliu/adult-income-dataset\")\n",
    "\n",
    "\n",
    "#removing unknown values\n",
    "df = (pd.read_csv(path+\"\\\\adult.csv\",na_values=\"?\",skipinitialspace=True)\n",
    "        .dropna()\n",
    "        )\n",
    "for col in df.select_dtypes(include='object'):\n",
    "    df[col] = df[col].str.strip()"
   ],
   "id": "2e6f8eb6bd29c8cd",
   "outputs": [],
   "execution_count": 10
  },
  {
   "metadata": {
    "ExecuteTime": {
     "end_time": "2025-06-26T11:04:57.454496Z",
     "start_time": "2025-06-26T11:04:57.447635Z"
    }
   },
   "cell_type": "code",
   "source": [
    "# 1. workclass: Ordered by employment stability and public sector preference\n",
    "workclass_map = {\n",
    "    '?': 0,\n",
    "    'Without-pay': 1,\n",
    "    'Never-worked': 2,\n",
    "    'Self-emp-not-inc': 3,\n",
    "    'Self-emp-inc': 4,\n",
    "    'Private': 5,\n",
    "    'State-gov': 6,\n",
    "    'Local-gov': 7,\n",
    "    'Federal-gov': 8\n",
    "}\n",
    "\n",
    "# 2. education: Ordered by educational level (from elementary to postgraduate)\n",
    "education_map = {\n",
    "    'Preschool': 0,\n",
    "    '1st-4th': 1,\n",
    "    '5th-6th': 2,\n",
    "    '7th-8th': 3,\n",
    "    '9th': 4,\n",
    "    '10th': 5,\n",
    "    '11th': 6,\n",
    "    '12th': 7,\n",
    "    'HS-grad': 8,\n",
    "    'Some-college': 9,\n",
    "    'Assoc-voc': 10,\n",
    "    'Assoc-acdm': 11,\n",
    "    'Bachelors': 12,\n",
    "    'Masters': 13,\n",
    "    'Prof-school': 14,\n",
    "    'Doctorate': 15\n",
    "}\n",
    "\n",
    "# 3. marital-status: Ordered by potential socioeconomic stability\n",
    "marital_status_map = {\n",
    "    'Never-married': 0,\n",
    "    'Married-spouse-absent': 1,\n",
    "    'Separated': 2,\n",
    "    'Divorced': 3,\n",
    "    'Widowed': 4,\n",
    "    'Married-AF-spouse': 5,\n",
    "    'Married-civ-spouse': 6\n",
    "}\n",
    "\n",
    "# 4. occupation: Based on skill level, specialization, and income trends (approximate)\n",
    "occupation_map = {\n",
    "    '?': 0,\n",
    "    'Priv-house-serv': 1,\n",
    "    'Handlers-cleaners': 2,\n",
    "    'Other-service': 3,\n",
    "    'Farming-fishing': 4,\n",
    "    'Machine-op-inspct': 5,\n",
    "    'Transport-moving': 6,\n",
    "    'Craft-repair': 7,\n",
    "    'Adm-clerical': 8,\n",
    "    'Sales': 9,\n",
    "    'Tech-support': 10,\n",
    "    'Protective-serv': 11,\n",
    "    'Exec-managerial': 12,\n",
    "    'Prof-specialty': 13,\n",
    "    'Armed-Forces': 14\n",
    "}\n",
    "\n",
    "# 5. relationship: Ordered by likely household responsibility (somewhat subjective)\n",
    "relationship_map = {\n",
    "    'Own-child': 0,\n",
    "    'Other-relative': 1,\n",
    "    'Not-in-family': 2,\n",
    "    'Unmarried': 3,\n",
    "    'Wife': 4,\n",
    "    'Husband': 5\n",
    "}\n",
    "\n",
    "# 6. race: No natural order — included here only symbolically (use with caution)\n",
    "race_map = {\n",
    "    'Amer-Indian-Eskimo': 0,\n",
    "    'Other': 1,\n",
    "    'Asian-Pac-Islander': 2,\n",
    "    'Black': 3,\n",
    "    'White': 4\n",
    "}\n",
    "\n",
    "# 7. gender: Binary, Female = 0, Male = 1\n",
    "gender_map = {\n",
    "    'Female': 0,\n",
    "    'Male': 1\n",
    "}\n",
    "\n",
    "# 8. native-country: Ordered roughly by economic development or immigration relevance\n",
    "native_country_map = {\n",
    "    '?': 0,\n",
    "    'Honduras': 1,\n",
    "    'Guatemala': 2,\n",
    "    'Nicaragua': 3,\n",
    "    'El-Salvador': 4,\n",
    "    'Haiti': 5,\n",
    "    'Dominican-Republic': 6,\n",
    "    'Trinadad&Tobago': 7,\n",
    "    'Columbia': 8,\n",
    "    'Ecuador': 9,\n",
    "    'Peru': 10,\n",
    "    'Mexico': 11,\n",
    "    'Cuba': 12,\n",
    "    'Jamaica': 13,\n",
    "    'Outlying-US(Guam-USVI-etc)': 14,\n",
    "    'Cambodia': 15,\n",
    "    'Laos': 16,\n",
    "    'Vietnam': 17,\n",
    "    'Thailand': 18,\n",
    "    'Philippines': 19,\n",
    "    'South': 20,\n",
    "    'Hong': 21,\n",
    "    'China': 22,\n",
    "    'India': 23,\n",
    "    'Iran': 24,\n",
    "    'Japan': 25,\n",
    "    'Taiwan': 26,\n",
    "    'Poland': 27,\n",
    "    'Portugal': 28,\n",
    "    'Hungary': 29,\n",
    "    'Greece': 30,\n",
    "    'Yugoslavia': 31,\n",
    "    'Italy': 32,\n",
    "    'Ireland': 33,\n",
    "    'Scotland': 34,\n",
    "    'Germany': 35,\n",
    "    'France': 36,\n",
    "    'England': 37,\n",
    "    'Holand-Netherlands': 38,\n",
    "    'Canada': 39,\n",
    "    'United-States': 40\n",
    "}\n"
   ],
   "id": "eba098017fda787b",
   "outputs": [],
   "execution_count": 12
  },
  {
   "metadata": {
    "ExecuteTime": {
     "end_time": "2025-06-26T11:05:02.870268Z",
     "start_time": "2025-06-26T11:05:02.801615Z"
    }
   },
   "cell_type": "code",
   "source": [
    "df['native-country'] = df['native-country'].apply(lambda x: native_country_map.get(x, 0))\n",
    "df['workclass'] = df['workclass'].map(workclass_map)\n",
    "df['education'] = df['education'].map(education_map)\n",
    "df['marital-status'] = df['marital-status'].map(marital_status_map)\n",
    "df['occupation'] = df['occupation'].map(occupation_map)\n",
    "df['relationship'] = df['relationship'].map(relationship_map)\n",
    "df['race'] = df['race'].map(race_map)\n",
    "df['gender'] = df['gender'].map(gender_map)\n",
    "df['income'] = df['income'].map({'<=50K': 0, '>50K': 1})\n",
    "\n",
    "df_train = df.iloc[:30162]\n",
    "df_test = df.iloc[30162:]\n",
    "\n",
    "# vectors\n",
    "X_train = df_train.drop(columns='income').to_numpy()\n",
    "y_train = df_train['income'].to_numpy()\n",
    "X_test = df_test.drop(columns='income').to_numpy()\n",
    "y_test = df_test['income'].to_numpy()\n"
   ],
   "id": "e6558a170bd0b655",
   "outputs": [],
   "execution_count": 13
  },
  {
   "metadata": {
    "ExecuteTime": {
     "end_time": "2025-06-26T11:05:05.511546Z",
     "start_time": "2025-06-26T11:05:05.508060Z"
    }
   },
   "cell_type": "code",
   "source": [
    "def knn(record, X_train, y_train, k=10):\n",
    "    distances = np.linalg.norm(X_train-record,axis=1)\n",
    "    nearest = np.argsort(distances)[:k]\n",
    "    return Counter(y_train[nearest]).most_common(1)[0][0]"
   ],
   "id": "a2d5f3cdd5c0d3bf",
   "outputs": [],
   "execution_count": 14
  },
  {
   "metadata": {
    "ExecuteTime": {
     "end_time": "2025-06-26T11:06:28.189795Z",
     "start_time": "2025-06-26T11:06:28.180257Z"
    }
   },
   "cell_type": "code",
   "source": [
    "def main():\n",
    "    predictions = []\n",
    "    print('dziala')\n",
    "    for i in range(len(X_test)):\n",
    "        pred = knn(X_test[i], X_train, y_train, k=10)\n",
    "        predictions.append(pred)\n",
    "        if i % 1000 == 0:\n",
    "            print(f\"Processed {i} records...\")\n",
    "\n",
    "    acc = accuracy_score(y_test, predictions)\n",
    "    print(f\"\\n✅ Accuracy: {acc:.4f}\")\n"
   ],
   "id": "1833962af5631002",
   "outputs": [],
   "execution_count": 19
  },
  {
   "metadata": {
    "ExecuteTime": {
     "end_time": "2025-06-26T11:07:44.402782Z",
     "start_time": "2025-06-26T11:06:34.972374Z"
    }
   },
   "cell_type": "code",
   "source": [
    "if __name__ == '__main__':\n",
    "    main()"
   ],
   "id": "23fe5a9085af6266",
   "outputs": [
    {
     "name": "stdout",
     "output_type": "stream",
     "text": [
      "dziala\n",
      "Processed 0 records...\n",
      "Processed 1000 records...\n",
      "Processed 2000 records...\n",
      "Processed 3000 records...\n",
      "Processed 4000 records...\n",
      "Processed 5000 records...\n",
      "Processed 6000 records...\n",
      "Processed 7000 records...\n",
      "Processed 8000 records...\n",
      "Processed 9000 records...\n",
      "Processed 10000 records...\n",
      "Processed 11000 records...\n",
      "Processed 12000 records...\n",
      "Processed 13000 records...\n",
      "Processed 14000 records...\n",
      "Processed 15000 records...\n",
      "\n",
      "✅ Accuracy: 0.7818\n"
     ]
    }
   ],
   "execution_count": 20
  },
  {
   "metadata": {},
   "cell_type": "code",
   "outputs": [],
   "execution_count": null,
   "source": "n = len(X_test)\n",
   "id": "dd8a787d09320434"
  }
 ],
 "metadata": {
  "kernelspec": {
   "display_name": "Python 3",
   "language": "python",
   "name": "python3"
  },
  "language_info": {
   "codemirror_mode": {
    "name": "ipython",
    "version": 2
   },
   "file_extension": ".py",
   "mimetype": "text/x-python",
   "name": "python",
   "nbconvert_exporter": "python",
   "pygments_lexer": "ipython2",
   "version": "2.7.6"
  }
 },
 "nbformat": 4,
 "nbformat_minor": 5
}
