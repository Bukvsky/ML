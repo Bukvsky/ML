{
 "cells": [
  {
   "cell_type": "code",
   "id": "initial_id",
   "metadata": {
    "collapsed": true,
    "ExecuteTime": {
     "end_time": "2025-07-02T20:51:49.655272Z",
     "start_time": "2025-07-02T20:51:49.319441Z"
    }
   },
   "source": [
    "import kagglehub\n",
    "import numpy as np\n",
    "import pandas as pd\n",
    "import LabelCoder\n",
    "from collections import Counter\n",
    "from sklearn.metrics import accuracy_score\n",
    "\n",
    "from LabelCoder import DataEncoder, dataCoder\n",
    "\n",
    "path = kagglehub.dataset_download(\"wenruliu/adult-income-dataset\")"
   ],
   "outputs": [],
   "execution_count": 24
  },
  {
   "metadata": {
    "ExecuteTime": {
     "end_time": "2025-07-02T21:35:40.053153Z",
     "start_time": "2025-07-02T21:35:39.807434Z"
    }
   },
   "cell_type": "code",
   "source": [
    "data = (pd.read_csv(path+\"\\\\adult.csv\",na_values=\"?\",skipinitialspace=True)\n",
    "        .dropna()\n",
    "        )\n",
    "income = data.columns[-1]\n",
    "x = data.drop(columns=[income])\n",
    "y = data[income]\n",
    "all_columns = x.columns\n",
    "encoder = DataEncoder()"
   ],
   "id": "76f95efc591f6cb9",
   "outputs": [
    {
     "ename": "NameError",
     "evalue": "name 'DataEncoder' is not defined",
     "output_type": "error",
     "traceback": [
      "\u001B[31m---------------------------------------------------------------------------\u001B[39m",
      "\u001B[31mNameError\u001B[39m                                 Traceback (most recent call last)",
      "\u001B[36mCell\u001B[39m\u001B[36m \u001B[39m\u001B[32mIn[28]\u001B[39m\u001B[32m, line 8\u001B[39m\n\u001B[32m      6\u001B[39m y = data[income]\n\u001B[32m      7\u001B[39m all_columns = x.columns\n\u001B[32m----> \u001B[39m\u001B[32m8\u001B[39m encoder = \u001B[43mDataEncoder\u001B[49m()\n",
      "\u001B[31mNameError\u001B[39m: name 'DataEncoder' is not defined"
     ]
    }
   ],
   "execution_count": 28
  },
  {
   "metadata": {
    "ExecuteTime": {
     "end_time": "2025-07-02T20:45:09.457942Z",
     "start_time": "2025-07-02T20:45:09.438639Z"
    }
   },
   "cell_type": "code",
   "source": [
    "for column in all_columns:\n",
    "    if column  in LabelCoder.dataCoder:\n",
    "        data[column] = data[column].map(LabelCoder.dataCoder[column])"
   ],
   "id": "37126860ca62b96e",
   "outputs": [
    {
     "ename": "AttributeError",
     "evalue": "module 'LabelCoder' has no attribute 'dataCoder'",
     "output_type": "error",
     "traceback": [
      "\u001B[31m---------------------------------------------------------------------------\u001B[39m",
      "\u001B[31mAttributeError\u001B[39m                            Traceback (most recent call last)",
      "\u001B[36mCell\u001B[39m\u001B[36m \u001B[39m\u001B[32mIn[16]\u001B[39m\u001B[32m, line 2\u001B[39m\n\u001B[32m      1\u001B[39m \u001B[38;5;28;01mfor\u001B[39;00m column \u001B[38;5;129;01min\u001B[39;00m all_columns:\n\u001B[32m----> \u001B[39m\u001B[32m2\u001B[39m     \u001B[38;5;28;01mif\u001B[39;00m column  \u001B[38;5;129;01min\u001B[39;00m \u001B[43mLabelCoder\u001B[49m\u001B[43m.\u001B[49m\u001B[43mdataCoder\u001B[49m:\n\u001B[32m      3\u001B[39m         data[column] = data[column].map(LabelCoder.dataCoder[column])\n",
      "\u001B[31mAttributeError\u001B[39m: module 'LabelCoder' has no attribute 'dataCoder'"
     ]
    }
   ],
   "execution_count": 16
  }
 ],
 "metadata": {
  "kernelspec": {
   "display_name": "Python 3",
   "language": "python",
   "name": "python3"
  },
  "language_info": {
   "codemirror_mode": {
    "name": "ipython",
    "version": 2
   },
   "file_extension": ".py",
   "mimetype": "text/x-python",
   "name": "python",
   "nbconvert_exporter": "python",
   "pygments_lexer": "ipython2",
   "version": "2.7.6"
  }
 },
 "nbformat": 4,
 "nbformat_minor": 5
}
