{
 "cells": [
  {
   "cell_type": "code",
   "id": "initial_id",
   "metadata": {
    "collapsed": true,
    "ExecuteTime": {
     "end_time": "2025-06-26T22:36:26.146289Z",
     "start_time": "2025-06-26T22:36:23.897666Z"
    }
   },
   "source": [
    "import kagglehub\n",
    "import numpy as np\n",
    "import pandas as pd\n",
    "from collections import Counter\n",
    "from sklearn.metrics import accuracy_score\n",
    "# Download latest version\n",
    "path = kagglehub.dataset_download(\"wenruliu/adult-income-dataset\")\n"
   ],
   "outputs": [
    {
     "name": "stderr",
     "output_type": "stream",
     "text": [
      "D:\\Programowanie\\deep_learning\\.venv1\\Lib\\site-packages\\tqdm\\auto.py:21: TqdmWarning: IProgress not found. Please update jupyter and ipywidgets. See https://ipywidgets.readthedocs.io/en/stable/user_install.html\n",
      "  from .autonotebook import tqdm as notebook_tqdm\n"
     ]
    }
   ],
   "execution_count": 1
  },
  {
   "metadata": {
    "ExecuteTime": {
     "end_time": "2025-06-26T22:36:41.485295Z",
     "start_time": "2025-06-26T22:36:41.358207Z"
    }
   },
   "cell_type": "code",
   "source": [
    "df = (pd.read_csv(path+\"\\\\adult.csv\",na_values=\"?\",skipinitialspace=True)\n",
    "        .dropna()\n",
    "        )\n",
    "\n",
    "for col in df.select_dtypes(include='object'):\n",
    "    df[col] = df[col].str.strip()\n"
   ],
   "id": "d18e226ee941a937",
   "outputs": [],
   "execution_count": 2
  },
  {
   "metadata": {
    "ExecuteTime": {
     "end_time": "2025-06-26T22:36:42.635022Z",
     "start_time": "2025-06-26T22:36:42.626165Z"
    }
   },
   "cell_type": "code",
   "source": [
    "df_train = df.iloc[:30162]\n",
    "df_test = df.iloc[30162:]\n",
    "x_train = df_train\n",
    "y_train = df_train[\"income\"]\n",
    "x_test = df_test.drop(columns=\"income\")\n",
    "y_test = df_test[\"income\"]"
   ],
   "id": "f3395a299382db25",
   "outputs": [],
   "execution_count": 3
  },
  {
   "metadata": {},
   "cell_type": "markdown",
   "source": "",
   "id": "73709423573aef81"
  },
  {
   "metadata": {
    "ExecuteTime": {
     "end_time": "2025-06-26T22:38:48.256486Z",
     "start_time": "2025-06-26T22:38:48.246483Z"
    }
   },
   "cell_type": "code",
   "source": [
    "probability = dict(y_train.value_counts(normalize=True))\n",
    "features = [col for col in x_train.columns if col not in [\"income\"]]\n"
   ],
   "id": "a35b567c39370653",
   "outputs": [],
   "execution_count": 6
  },
  {
   "metadata": {
    "ExecuteTime": {
     "end_time": "2025-06-26T22:41:58.346496Z",
     "start_time": "2025-06-26T22:41:58.263884Z"
    }
   },
   "cell_type": "code",
   "source": [
    "all_counts = {}\n",
    "print()\n",
    "for feature in features:\n",
    "    counts = x_train.groupby('income')[feature].value_counts().unstack(fill_value=0)\n",
    "    smoothed = counts+1\n",
    "    smoothed_probs = smoothed.div(smoothed.sum(axis=1)+smoothed.shape[1],axis=0)\n",
    "    all_counts[feature] = smoothed_probs\n",
    "print(all_counts)"
   ],
   "id": "c7da22e673376c67",
   "outputs": [
    {
     "name": "stdout",
     "output_type": "stream",
     "text": [
      "\n",
      "{'age': age           17        18        19        20        21        22        23  \\\n",
      "income                                                                         \n",
      "<=50K   0.013858  0.019891  0.024525  0.027322  0.026448  0.030557  0.035541   \n",
      ">50K    0.000000  0.000000  0.000264  0.000132  0.000792  0.001187  0.001715   \n",
      "\n",
      "age           24        25        26  ...        80        81        82  \\\n",
      "income                                ...                                 \n",
      "<=50K   0.032262  0.030383  0.028634  ...  0.000743  0.000743  0.000262   \n",
      ">50K    0.004486  0.006597  0.005806  ...  0.000396  0.000528  0.000000   \n",
      "\n",
      "age           83        84        85        87        88        89        90  \n",
      "income                                                                        \n",
      "<=50K   0.000262  0.000262  0.000087  0.000044  0.000087  0.000044  0.000962  \n",
      ">50K    0.000000  0.000132  0.000132  0.000000  0.000132  0.000000  0.001451  \n",
      "\n",
      "[2 rows x 73 columns], 'workclass': workclass  Federal-gov  Local-gov   Private  Self-emp-inc  Self-emp-not-inc  \\\n",
      "income                                                                        \n",
      "<=50K         0.025678   0.063096  0.763971      0.022205          0.081783   \n",
      ">50K          0.048342   0.080972  0.644689      0.081509          0.093998   \n",
      "\n",
      "workclass  State-gov  Without-pay  \n",
      "income                             \n",
      "<=50K       0.042255     0.000396  \n",
      ">50K        0.048342     0.000269  , 'fnlwgt': fnlwgt   13492     13769     19214     19302     19395     19410     19447    \\\n",
      "income                                                                         \n",
      "<=50K   0.000016  0.000016  0.000016  0.000032  0.000032  0.000032  0.000016   \n",
      ">50K    0.000000  0.000021  0.000000  0.000021  0.000000  0.000000  0.000000   \n",
      "\n",
      "fnlwgt   19491     19513     19522    ...   1033222   1038553   1047822  \\\n",
      "income                                ...                                 \n",
      "<=50K   0.000016  0.000032  0.000016  ...  0.000016  0.000016  0.000016   \n",
      ">50K    0.000000  0.000000  0.000000  ...  0.000000  0.000000  0.000000   \n",
      "\n",
      "fnlwgt   1117718   1184622   1210504   1226583   1268339   1484705   1490400  \n",
      "income                                                                        \n",
      "<=50K   0.000016  0.000016  0.000016  0.000000  0.000016  0.000016  0.000016  \n",
      ">50K    0.000000  0.000000  0.000000  0.000021  0.000000  0.000000  0.000000  \n",
      "\n",
      "[2 rows x 20310 columns], 'education': education      10th      11th      12th   1st-4th   5th-6th   7th-8th  \\\n",
      "income                                                                  \n",
      "<=50K      0.033390  0.045165  0.014674  0.006063  0.012390  0.022099   \n",
      ">50K       0.007502  0.007770  0.003483  0.000670  0.002143  0.005358   \n",
      "\n",
      "education       9th  Assoc-acdm  Assoc-voc  Bachelors  Doctorate   HS-grad  \\\n",
      "income                                                                       \n",
      "<=50K      0.018365    0.031545   0.042836   0.130355   0.004086  0.364747   \n",
      ">50K       0.003349    0.036035   0.042063   0.281849   0.034561  0.219826   \n",
      "\n",
      "education   Masters  Preschool  Prof-school  Some-college  \n",
      "income                                                     \n",
      "<=50K      0.033654   0.001889     0.005712      0.231624  \n",
      ">50K       0.126457   0.000134     0.050368      0.174146  , 'educational-num': educational-num        1         2         3         4         5         6   \\\n",
      "income                                                                        \n",
      "<=50K            0.001889  0.006063  0.012390  0.022099  0.018365  0.033390   \n",
      ">50K             0.000134  0.000670  0.002143  0.005358  0.003349  0.007502   \n",
      "\n",
      "educational-num        7         8         9         10        11        12  \\\n",
      "income                                                                        \n",
      "<=50K            0.045165  0.014674  0.364747  0.231624  0.042836  0.031545   \n",
      ">50K             0.007770  0.003483  0.219826  0.174146  0.042063  0.036035   \n",
      "\n",
      "educational-num        13        14        15        16  \n",
      "income                                                   \n",
      "<=50K            0.130355  0.033654  0.005712  0.004086  \n",
      ">50K             0.281849  0.126457  0.050368  0.034561  , 'marital-status': marital-status  Divorced  Married-AF-spouse  Married-civ-spouse  \\\n",
      "income                                                            \n",
      "<=50K           0.165853           0.000616            0.337730   \n",
      ">50K            0.057339           0.001074            0.851887   \n",
      "\n",
      "marital-status  Married-spouse-absent  Never-married  Separated   Widowed  \n",
      "income                                                                     \n",
      "<=50K                        0.014642       0.407642   0.038254  0.034648  \n",
      ">50K                         0.005103       0.063650   0.009265  0.009803  , 'occupation': occupation  Adm-clerical  Armed-Forces  Craft-repair  Exec-managerial  \\\n",
      "income                                                                  \n",
      "<=50K           0.143384      0.000264      0.135431         0.090653   \n",
      ">50K            0.068087      0.000402      0.119823         0.252915   \n",
      "\n",
      "occupation  Farming-fishing  Handlers-cleaners  Machine-op-inspct  \\\n",
      "income                                                              \n",
      "<=50K              0.037571           0.054093           0.077207   \n",
      ">50K               0.014207           0.012599           0.033776   \n",
      "\n",
      "occupation  Other-service  Priv-house-serv  Prof-specialty  Protective-serv  \\\n",
      "income                                                                        \n",
      "<=50K            0.135651         0.007119        0.096102         0.019818   \n",
      ">50K             0.017558         0.000268        0.240450         0.027208   \n",
      "\n",
      "occupation     Sales  Tech-support  Transport-moving  \n",
      "income                                                \n",
      "<=50K       0.118601      0.029310          0.053566  \n",
      ">50K        0.129339      0.036992          0.042622  , 'relationship': relationship   Husband  Not-in-family  Other-relative  Own-child  Unmarried  \\\n",
      "income                                                                        \n",
      "<=50K         0.297612       0.310804        0.037729   0.189877   0.130601   \n",
      ">50K          0.757287       0.110813        0.004164   0.009940   0.025520   \n",
      "\n",
      "relationship      Wife  \n",
      "income                  \n",
      "<=50K         0.032848  \n",
      ">50K          0.090665  , 'race': race    Amer-Indian-Eskimo  Asian-Pac-Islander     Black     Other     White\n",
      "income                                                                      \n",
      "<=50K             0.010906            0.027002  0.109020  0.008664  0.843969\n",
      ">50K              0.004434            0.030364  0.047427  0.004165  0.912267, 'gender': gender    Female      Male\n",
      "income                    \n",
      "<=50K   0.381824  0.618000\n",
      ">50K    0.150598  0.848864, 'capital-gain': capital-gain     0         114       401       594       914       991    \\\n",
      "income                                                                     \n",
      "<=50K         0.948356  0.000174  0.000087  0.001176  0.000261  0.000044   \n",
      ">50K          0.766071  0.000000  0.000000  0.000000  0.000000  0.000000   \n",
      "\n",
      "capital-gain     1055      1086      1151      1173   ...   15024     15831  \\\n",
      "income                                                ...                     \n",
      "<=50K         0.000914  0.000174  0.000435  0.000044  ...  0.0000  0.000000   \n",
      ">50K          0.000000  0.000000  0.000000  0.000000  ...  0.0429  0.000782   \n",
      "\n",
      "capital-gain     20051     22040     25124     25236     27828     34095  \\\n",
      "income                                                                     \n",
      "<=50K         0.000000  0.000044  0.000000  0.000000  0.000000  0.000174   \n",
      ">50K          0.003129  0.000000  0.000261  0.001043  0.004825  0.000000   \n",
      "\n",
      "capital-gain     41310     99999  \n",
      "income                            \n",
      "<=50K         0.000087  0.000000  \n",
      ">50K          0.000000  0.020081  \n",
      "\n",
      "[2 rows x 118 columns], 'capital-loss': capital-loss      0         213       323       625       653       810   \\\n",
      "income                                                                     \n",
      "<=50K         0.961376  0.000131  0.000131  0.000393  0.000044  0.000087   \n",
      ">50K          0.879218  0.000000  0.000000  0.000000  0.000263  0.000000   \n",
      "\n",
      "capital-loss      880       974       1092      1138  ...      2472      2547  \\\n",
      "income                                                ...                       \n",
      "<=50K         0.000218  0.000087  0.000349  0.000131  ...  0.000000  0.000000   \n",
      ">50K          0.000000  0.000000  0.000000  0.000000  ...  0.000394  0.000394   \n",
      "\n",
      "capital-loss      2559      2603      2824      3004      3175      3683  \\\n",
      "income                                                                     \n",
      "<=50K         0.000000  0.000087  0.000000  0.000000  0.000087  0.000000   \n",
      ">50K          0.001444  0.000000  0.000919  0.000394  0.000000  0.000131   \n",
      "\n",
      "capital-loss      3770      4356  \n",
      "income                            \n",
      "<=50K         0.000175  0.000044  \n",
      ">50K          0.000000  0.000000  \n",
      "\n",
      "[2 rows x 92 columns], 'hours-per-week': hours-per-week        1         2         3         4         5         6   \\\n",
      "income                                                                       \n",
      "<=50K           0.000218  0.000698  0.000960  0.001178  0.001483  0.001833   \n",
      ">50K            0.000262  0.000131  0.000131  0.000394  0.000656  0.000394   \n",
      "\n",
      "hours-per-week        7         8         9         10  ...        88  \\\n",
      "income                                                  ...             \n",
      "<=50K           0.000785  0.004014  0.000654  0.008814  ...  0.000131   \n",
      ">50K            0.000525  0.001181  0.000262  0.001837  ...  0.000000   \n",
      "\n",
      "hours-per-week        89        90        91        92        94        96  \\\n",
      "income                                                                       \n",
      "<=50K           0.000044  0.000611  0.000044  0.000044  0.000044  0.000262   \n",
      ">50K            0.000131  0.001443  0.000000  0.000131  0.000000  0.000000   \n",
      "\n",
      "hours-per-week        97        98        99  \n",
      "income                                        \n",
      "<=50K           0.000044  0.000305  0.002269  \n",
      ">50K            0.000131  0.000131  0.003411  \n",
      "\n",
      "[2 rows x 95 columns], 'native-country': native-country  Cambodia    Canada     China  Columbia      Cuba  \\\n",
      "income                                                             \n",
      "<=50K           0.000570  0.003025  0.002631  0.002104  0.002937   \n",
      ">50K            0.000666  0.005990  0.003328  0.000532  0.002130   \n",
      "\n",
      "native-country  Dominican-Republic   Ecuador  El-Salvador   England    France  \\\n",
      "income                                                                          \n",
      "<=50K                     0.002543  0.001140     0.003770  0.002061  0.000482   \n",
      ">50K                      0.000666  0.000399     0.000932  0.004792  0.000932   \n",
      "\n",
      "native-country  ...  Portugal  Puerto-Rico  Scotland     South    Taiwan  \\\n",
      "income          ...                                                        \n",
      "<=50K           ...  0.001534     0.005130   0.00057  0.002499  0.000789   \n",
      ">50K            ...  0.001464     0.001997   0.00000  0.001597  0.002263   \n",
      "\n",
      "native-country  Thailand  Trinadad&Tobago  United-States   Vietnam  Yugoslavia  \n",
      "income                                                                          \n",
      "<=50K           0.000745         0.000614       0.903547  0.002104    0.000395  \n",
      ">50K            0.000532         0.000133       0.922401  0.000532    0.000666  \n",
      "\n",
      "[2 rows x 40 columns]}\n"
     ]
    }
   ],
   "execution_count": 7
  },
  {
   "metadata": {
    "ExecuteTime": {
     "end_time": "2025-06-26T22:50:11.169536Z",
     "start_time": "2025-06-26T22:50:10.771047Z"
    }
   },
   "cell_type": "code",
   "source": [
    "predictions = []\n",
    "for i, row in x_test.iterrows():\n",
    "    scores = {}\n",
    "    for c in ['<=50K', '>50K']:\n",
    "        log_prob = np.log(probability[c])\n",
    "        for feature in features:\n",
    "            value = row[feature]\n",
    "            prob = all_counts[feature].loc[c, value]\n",
    "            log_prob += np.log(prob)\n",
    "        scores[c] = log_prob\n",
    "    predicted_class = max(scores, key=scores.get)\n",
    "    predictions.append(predicted_class)"
   ],
   "id": "6190aef401e0bc08",
   "outputs": [
    {
     "ename": "KeyError",
     "evalue": "236497",
     "output_type": "error",
     "traceback": [
      "\u001B[31m---------------------------------------------------------------------------\u001B[39m",
      "\u001B[31mKeyError\u001B[39m                                  Traceback (most recent call last)",
      "\u001B[36mFile \u001B[39m\u001B[32mD:\\Programowanie\\deep_learning\\.venv1\\Lib\\site-packages\\pandas\\core\\indexes\\base.py:3812\u001B[39m, in \u001B[36mIndex.get_loc\u001B[39m\u001B[34m(self, key)\u001B[39m\n\u001B[32m   3811\u001B[39m \u001B[38;5;28;01mtry\u001B[39;00m:\n\u001B[32m-> \u001B[39m\u001B[32m3812\u001B[39m     \u001B[38;5;28;01mreturn\u001B[39;00m \u001B[38;5;28;43mself\u001B[39;49m\u001B[43m.\u001B[49m\u001B[43m_engine\u001B[49m\u001B[43m.\u001B[49m\u001B[43mget_loc\u001B[49m\u001B[43m(\u001B[49m\u001B[43mcasted_key\u001B[49m\u001B[43m)\u001B[49m\n\u001B[32m   3813\u001B[39m \u001B[38;5;28;01mexcept\u001B[39;00m \u001B[38;5;167;01mKeyError\u001B[39;00m \u001B[38;5;28;01mas\u001B[39;00m err:\n",
      "\u001B[36mFile \u001B[39m\u001B[32mpandas/_libs/index.pyx:167\u001B[39m, in \u001B[36mpandas._libs.index.IndexEngine.get_loc\u001B[39m\u001B[34m()\u001B[39m\n",
      "\u001B[36mFile \u001B[39m\u001B[32mpandas/_libs/index.pyx:196\u001B[39m, in \u001B[36mpandas._libs.index.IndexEngine.get_loc\u001B[39m\u001B[34m()\u001B[39m\n",
      "\u001B[36mFile \u001B[39m\u001B[32mpandas/_libs/hashtable_class_helper.pxi:2606\u001B[39m, in \u001B[36mpandas._libs.hashtable.Int64HashTable.get_item\u001B[39m\u001B[34m()\u001B[39m\n",
      "\u001B[36mFile \u001B[39m\u001B[32mpandas/_libs/hashtable_class_helper.pxi:2630\u001B[39m, in \u001B[36mpandas._libs.hashtable.Int64HashTable.get_item\u001B[39m\u001B[34m()\u001B[39m\n",
      "\u001B[31mKeyError\u001B[39m: 236497",
      "\nThe above exception was the direct cause of the following exception:\n",
      "\u001B[31mKeyError\u001B[39m                                  Traceback (most recent call last)",
      "\u001B[36mCell\u001B[39m\u001B[36m \u001B[39m\u001B[32mIn[12]\u001B[39m\u001B[32m, line 8\u001B[39m\n\u001B[32m      6\u001B[39m \u001B[38;5;28;01mfor\u001B[39;00m feature \u001B[38;5;129;01min\u001B[39;00m features:\n\u001B[32m      7\u001B[39m     value = row[feature]\n\u001B[32m----> \u001B[39m\u001B[32m8\u001B[39m     prob = \u001B[43mall_counts\u001B[49m\u001B[43m[\u001B[49m\u001B[43mfeature\u001B[49m\u001B[43m]\u001B[49m\u001B[43m.\u001B[49m\u001B[43mloc\u001B[49m\u001B[43m[\u001B[49m\u001B[43mc\u001B[49m\u001B[43m,\u001B[49m\u001B[43m \u001B[49m\u001B[43mvalue\u001B[49m\u001B[43m]\u001B[49m\n\u001B[32m      9\u001B[39m     log_prob += np.log(prob)\n\u001B[32m     10\u001B[39m scores[c] = log_prob\n",
      "\u001B[36mFile \u001B[39m\u001B[32mD:\\Programowanie\\deep_learning\\.venv1\\Lib\\site-packages\\pandas\\core\\indexing.py:1183\u001B[39m, in \u001B[36m_LocationIndexer.__getitem__\u001B[39m\u001B[34m(self, key)\u001B[39m\n\u001B[32m   1181\u001B[39m     key = \u001B[38;5;28mtuple\u001B[39m(com.apply_if_callable(x, \u001B[38;5;28mself\u001B[39m.obj) \u001B[38;5;28;01mfor\u001B[39;00m x \u001B[38;5;129;01min\u001B[39;00m key)\n\u001B[32m   1182\u001B[39m     \u001B[38;5;28;01mif\u001B[39;00m \u001B[38;5;28mself\u001B[39m._is_scalar_access(key):\n\u001B[32m-> \u001B[39m\u001B[32m1183\u001B[39m         \u001B[38;5;28;01mreturn\u001B[39;00m \u001B[38;5;28;43mself\u001B[39;49m\u001B[43m.\u001B[49m\u001B[43mobj\u001B[49m\u001B[43m.\u001B[49m\u001B[43m_get_value\u001B[49m\u001B[43m(\u001B[49m\u001B[43m*\u001B[49m\u001B[43mkey\u001B[49m\u001B[43m,\u001B[49m\u001B[43m \u001B[49m\u001B[43mtakeable\u001B[49m\u001B[43m=\u001B[49m\u001B[38;5;28;43mself\u001B[39;49m\u001B[43m.\u001B[49m\u001B[43m_takeable\u001B[49m\u001B[43m)\u001B[49m\n\u001B[32m   1184\u001B[39m     \u001B[38;5;28;01mreturn\u001B[39;00m \u001B[38;5;28mself\u001B[39m._getitem_tuple(key)\n\u001B[32m   1185\u001B[39m \u001B[38;5;28;01melse\u001B[39;00m:\n\u001B[32m   1186\u001B[39m     \u001B[38;5;66;03m# we by definition only have the 0th axis\u001B[39;00m\n",
      "\u001B[36mFile \u001B[39m\u001B[32mD:\\Programowanie\\deep_learning\\.venv1\\Lib\\site-packages\\pandas\\core\\frame.py:4219\u001B[39m, in \u001B[36mDataFrame._get_value\u001B[39m\u001B[34m(self, index, col, takeable)\u001B[39m\n\u001B[32m   4216\u001B[39m     series = \u001B[38;5;28mself\u001B[39m._ixs(col, axis=\u001B[32m1\u001B[39m)\n\u001B[32m   4217\u001B[39m     \u001B[38;5;28;01mreturn\u001B[39;00m series._values[index]\n\u001B[32m-> \u001B[39m\u001B[32m4219\u001B[39m series = \u001B[38;5;28;43mself\u001B[39;49m\u001B[43m.\u001B[49m\u001B[43m_get_item_cache\u001B[49m\u001B[43m(\u001B[49m\u001B[43mcol\u001B[49m\u001B[43m)\u001B[49m\n\u001B[32m   4220\u001B[39m engine = \u001B[38;5;28mself\u001B[39m.index._engine\n\u001B[32m   4222\u001B[39m \u001B[38;5;28;01mif\u001B[39;00m \u001B[38;5;129;01mnot\u001B[39;00m \u001B[38;5;28misinstance\u001B[39m(\u001B[38;5;28mself\u001B[39m.index, MultiIndex):\n\u001B[32m   4223\u001B[39m     \u001B[38;5;66;03m# CategoricalIndex: Trying to use the engine fastpath may give incorrect\u001B[39;00m\n\u001B[32m   4224\u001B[39m     \u001B[38;5;66;03m#  results if our categories are integers that dont match our codes\u001B[39;00m\n\u001B[32m   4225\u001B[39m     \u001B[38;5;66;03m# IntervalIndex: IntervalTree has no get_loc\u001B[39;00m\n",
      "\u001B[36mFile \u001B[39m\u001B[32mD:\\Programowanie\\deep_learning\\.venv1\\Lib\\site-packages\\pandas\\core\\frame.py:4643\u001B[39m, in \u001B[36mDataFrame._get_item_cache\u001B[39m\u001B[34m(self, item)\u001B[39m\n\u001B[32m   4638\u001B[39m res = cache.get(item)\n\u001B[32m   4639\u001B[39m \u001B[38;5;28;01mif\u001B[39;00m res \u001B[38;5;129;01mis\u001B[39;00m \u001B[38;5;28;01mNone\u001B[39;00m:\n\u001B[32m   4640\u001B[39m     \u001B[38;5;66;03m# All places that call _get_item_cache have unique columns,\u001B[39;00m\n\u001B[32m   4641\u001B[39m     \u001B[38;5;66;03m#  pending resolution of GH#33047\u001B[39;00m\n\u001B[32m-> \u001B[39m\u001B[32m4643\u001B[39m     loc = \u001B[38;5;28;43mself\u001B[39;49m\u001B[43m.\u001B[49m\u001B[43mcolumns\u001B[49m\u001B[43m.\u001B[49m\u001B[43mget_loc\u001B[49m\u001B[43m(\u001B[49m\u001B[43mitem\u001B[49m\u001B[43m)\u001B[49m\n\u001B[32m   4644\u001B[39m     res = \u001B[38;5;28mself\u001B[39m._ixs(loc, axis=\u001B[32m1\u001B[39m)\n\u001B[32m   4646\u001B[39m     cache[item] = res\n",
      "\u001B[36mFile \u001B[39m\u001B[32mD:\\Programowanie\\deep_learning\\.venv1\\Lib\\site-packages\\pandas\\core\\indexes\\base.py:3819\u001B[39m, in \u001B[36mIndex.get_loc\u001B[39m\u001B[34m(self, key)\u001B[39m\n\u001B[32m   3814\u001B[39m     \u001B[38;5;28;01mif\u001B[39;00m \u001B[38;5;28misinstance\u001B[39m(casted_key, \u001B[38;5;28mslice\u001B[39m) \u001B[38;5;129;01mor\u001B[39;00m (\n\u001B[32m   3815\u001B[39m         \u001B[38;5;28misinstance\u001B[39m(casted_key, abc.Iterable)\n\u001B[32m   3816\u001B[39m         \u001B[38;5;129;01mand\u001B[39;00m \u001B[38;5;28many\u001B[39m(\u001B[38;5;28misinstance\u001B[39m(x, \u001B[38;5;28mslice\u001B[39m) \u001B[38;5;28;01mfor\u001B[39;00m x \u001B[38;5;129;01min\u001B[39;00m casted_key)\n\u001B[32m   3817\u001B[39m     ):\n\u001B[32m   3818\u001B[39m         \u001B[38;5;28;01mraise\u001B[39;00m InvalidIndexError(key)\n\u001B[32m-> \u001B[39m\u001B[32m3819\u001B[39m     \u001B[38;5;28;01mraise\u001B[39;00m \u001B[38;5;167;01mKeyError\u001B[39;00m(key) \u001B[38;5;28;01mfrom\u001B[39;00m\u001B[38;5;250m \u001B[39m\u001B[34;01merr\u001B[39;00m\n\u001B[32m   3820\u001B[39m \u001B[38;5;28;01mexcept\u001B[39;00m \u001B[38;5;167;01mTypeError\u001B[39;00m:\n\u001B[32m   3821\u001B[39m     \u001B[38;5;66;03m# If we have a listlike key, _check_indexing_error will raise\u001B[39;00m\n\u001B[32m   3822\u001B[39m     \u001B[38;5;66;03m#  InvalidIndexError. Otherwise we fall through and re-raise\u001B[39;00m\n\u001B[32m   3823\u001B[39m     \u001B[38;5;66;03m#  the TypeError.\u001B[39;00m\n\u001B[32m   3824\u001B[39m     \u001B[38;5;28mself\u001B[39m._check_indexing_error(key)\n",
      "\u001B[31mKeyError\u001B[39m: 236497"
     ]
    }
   ],
   "execution_count": 12
  }
 ],
 "metadata": {
  "kernelspec": {
   "display_name": "Python 3",
   "language": "python",
   "name": "python3"
  },
  "language_info": {
   "codemirror_mode": {
    "name": "ipython",
    "version": 2
   },
   "file_extension": ".py",
   "mimetype": "text/x-python",
   "name": "python",
   "nbconvert_exporter": "python",
   "pygments_lexer": "ipython2",
   "version": "2.7.6"
  }
 },
 "nbformat": 4,
 "nbformat_minor": 5
}
