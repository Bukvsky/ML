{
 "cells": [
  {
   "cell_type": "code",
   "id": "initial_id",
   "metadata": {
    "collapsed": true,
    "ExecuteTime": {
     "end_time": "2025-06-28T15:42:59.394577Z",
     "start_time": "2025-06-28T15:42:57.268336Z"
    }
   },
   "source": [
    "import kagglehub\n",
    "import numpy as np\n",
    "import pandas as pd\n",
    "from collections import Counter\n",
    "from sklearn.metrics import accuracy_score\n",
    "# Download latest version\n",
    "path = kagglehub.dataset_download(\"wenruliu/adult-income-dataset\")\n"
   ],
   "outputs": [],
   "execution_count": 2
  },
  {
   "metadata": {
    "ExecuteTime": {
     "end_time": "2025-06-28T15:42:59.542537Z",
     "start_time": "2025-06-28T15:42:59.408387Z"
    }
   },
   "cell_type": "code",
   "source": [
    "df = (pd.read_csv(path+\"\\\\adult.csv\",na_values=\"?\",skipinitialspace=True)\n",
    "        .dropna()\n",
    "        )\n",
    "\n",
    "for col in df.select_dtypes(include='object'):\n",
    "    df[col] = df[col].str.strip()\n"
   ],
   "id": "d18e226ee941a937",
   "outputs": [],
   "execution_count": 3
  },
  {
   "metadata": {
    "ExecuteTime": {
     "end_time": "2025-06-28T15:42:59.607466Z",
     "start_time": "2025-06-28T15:42:59.601632Z"
    }
   },
   "cell_type": "code",
   "source": [
    "df_train = df.iloc[:30162]\n",
    "df_test = df.iloc[30162:]\n",
    "x_train = df_train\n",
    "y_train = df_train[\"income\"]\n",
    "x_test = df_test.drop(columns=\"income\")\n",
    "y_test = df_test[\"income\"]"
   ],
   "id": "f3395a299382db25",
   "outputs": [],
   "execution_count": 4
  },
  {
   "metadata": {
    "SqlCellData": {
     "variableName$1": "df_sql1"
    }
   },
   "cell_type": "code",
   "outputs": [],
   "execution_count": null,
   "source": "%%sql\n",
   "id": "b69c492e3b368ff7"
  },
  {
   "metadata": {},
   "cell_type": "markdown",
   "source": "",
   "id": "73709423573aef81"
  },
  {
   "metadata": {
    "ExecuteTime": {
     "end_time": "2025-06-28T15:43:01.831156Z",
     "start_time": "2025-06-28T15:43:01.823074Z"
    }
   },
   "cell_type": "code",
   "source": [
    "probability = dict(y_train.value_counts(normalize=True))\n",
    "features = [col for col in x_train.columns if col not in [\"income\"]]\n"
   ],
   "id": "a35b567c39370653",
   "outputs": [],
   "execution_count": 5
  },
  {
   "metadata": {
    "ExecuteTime": {
     "end_time": "2025-06-28T15:43:04.461976Z",
     "start_time": "2025-06-28T15:43:04.367334Z"
    }
   },
   "cell_type": "code",
   "source": [
    "all_counts = {}\n",
    "print()\n",
    "for feature in features:\n",
    "    counts = x_train.groupby('income')[feature].value_counts().unstack(fill_value=0)\n",
    "    smoothed = counts+1\n",
    "    smoothed_probs = smoothed.div(smoothed.sum(axis=1)+smoothed.shape[1],axis=0)\n",
    "    all_counts[feature] = smoothed_probs\n",
    "print(all_counts)"
   ],
   "id": "c7da22e673376c67",
   "outputs": [
    {
     "name": "stdout",
     "output_type": "stream",
     "text": [
      "\n",
      "{'age': age           17        18        19        20        21        22        23  \\\n",
      "income                                                                         \n",
      "<=50K   0.013902  0.019934  0.024568  0.027366  0.026492  0.030601  0.035585   \n",
      ">50K    0.000132  0.000132  0.000396  0.000264  0.000924  0.001319  0.001847   \n",
      "\n",
      "age           24        25        26  ...        80        81        82  \\\n",
      "income                                ...                                 \n",
      "<=50K   0.032306  0.030426  0.028678  ...  0.000787  0.000787  0.000306   \n",
      ">50K    0.004618  0.006729  0.005937  ...  0.000528  0.000660  0.000132   \n",
      "\n",
      "age           83        84        85        87        88        89        90  \n",
      "income                                                                        \n",
      "<=50K   0.000306  0.000306  0.000131  0.000087  0.000131  0.000087  0.001005  \n",
      ">50K    0.000132  0.000264  0.000264  0.000132  0.000264  0.000132  0.001583  \n",
      "\n",
      "[2 rows x 73 columns], 'workclass': workclass  Federal-gov  Local-gov   Private  Self-emp-inc  Self-emp-not-inc  \\\n",
      "income                                                                        \n",
      "<=50K         0.025722   0.063140  0.764015      0.022249          0.081827   \n",
      ">50K          0.048476   0.081106  0.644823      0.081644          0.094132   \n",
      "\n",
      "workclass  State-gov  Without-pay  \n",
      "income                             \n",
      "<=50K       0.042299     0.000440  \n",
      ">50K        0.048476     0.000403  , 'fnlwgt': fnlwgt   13492     13769     19214     19302     19395     19410     19447    \\\n",
      "income                                                                         \n",
      "<=50K   0.000032  0.000032  0.000032  0.000047  0.000047  0.000047  0.000032   \n",
      ">50K    0.000021  0.000042  0.000021  0.000042  0.000021  0.000021  0.000021   \n",
      "\n",
      "fnlwgt   19491     19513     19522    ...   1033222   1038553   1047822  \\\n",
      "income                                ...                                 \n",
      "<=50K   0.000032  0.000047  0.000032  ...  0.000032  0.000032  0.000032   \n",
      ">50K    0.000021  0.000021  0.000021  ...  0.000021  0.000021  0.000021   \n",
      "\n",
      "fnlwgt   1117718   1184622   1210504   1226583   1268339   1484705   1490400  \n",
      "income                                                                        \n",
      "<=50K   0.000032  0.000032  0.000032  0.000016  0.000032  0.000032  0.000032  \n",
      ">50K    0.000021  0.000021  0.000021  0.000042  0.000021  0.000021  0.000021  \n",
      "\n",
      "[2 rows x 20310 columns], 'education': education      10th      11th      12th   1st-4th   5th-6th   7th-8th  \\\n",
      "income                                                                  \n",
      "<=50K      0.033434  0.045209  0.014718  0.006107  0.012434  0.022143   \n",
      ">50K       0.007636  0.007904  0.003617  0.000804  0.002277  0.005492   \n",
      "\n",
      "education       9th  Assoc-acdm  Assoc-voc  Bachelors  Doctorate   HS-grad  \\\n",
      "income                                                                       \n",
      "<=50K      0.018409    0.031589   0.042880   0.130398   0.004130  0.364791   \n",
      ">50K       0.003483    0.036169   0.042197   0.281983   0.034695  0.219960   \n",
      "\n",
      "education   Masters  Preschool  Prof-school  Some-college  \n",
      "income                                                     \n",
      "<=50K      0.033698   0.001933     0.005755      0.231668  \n",
      ">50K       0.126591   0.000268     0.050502      0.174280  , 'educational-num': educational-num        1         2         3         4         5         6   \\\n",
      "income                                                                        \n",
      "<=50K            0.001933  0.006107  0.012434  0.022143  0.018409  0.033434   \n",
      ">50K             0.000268  0.000804  0.002277  0.005492  0.003483  0.007636   \n",
      "\n",
      "educational-num        7         8         9         10        11        12  \\\n",
      "income                                                                        \n",
      "<=50K            0.045209  0.014718  0.364791  0.231668  0.042880  0.031589   \n",
      ">50K             0.007904  0.003617  0.219960  0.174280  0.042197  0.036169   \n",
      "\n",
      "educational-num        13        14        15        16  \n",
      "income                                                   \n",
      "<=50K            0.130398  0.033698  0.005755  0.004130  \n",
      ">50K             0.281983  0.126591  0.050502  0.034695  , 'marital-status': marital-status  Divorced  Married-AF-spouse  Married-civ-spouse  \\\n",
      "income                                                            \n",
      "<=50K           0.165897           0.000660            0.337774   \n",
      ">50K            0.057473           0.001209            0.852021   \n",
      "\n",
      "marital-status  Married-spouse-absent  Never-married  Separated   Widowed  \n",
      "income                                                                     \n",
      "<=50K                        0.014686       0.407686   0.038297  0.034692  \n",
      ">50K                         0.005237       0.063784   0.009400  0.009937  , 'occupation': occupation  Adm-clerical  Armed-Forces  Craft-repair  Exec-managerial  \\\n",
      "income                                                                  \n",
      "<=50K           0.143428      0.000308      0.135475         0.090697   \n",
      ">50K            0.068221      0.000536      0.119957         0.253049   \n",
      "\n",
      "occupation  Farming-fishing  Handlers-cleaners  Machine-op-inspct  \\\n",
      "income                                                              \n",
      "<=50K              0.037615           0.054137           0.077251   \n",
      ">50K               0.014341           0.012733           0.033910   \n",
      "\n",
      "occupation  Other-service  Priv-house-serv  Prof-specialty  Protective-serv  \\\n",
      "income                                                                        \n",
      "<=50K            0.135695         0.007163        0.096146         0.019862   \n",
      ">50K             0.017692         0.000402        0.240584         0.027342   \n",
      "\n",
      "occupation     Sales  Tech-support  Transport-moving  \n",
      "income                                                \n",
      "<=50K       0.118645      0.029354          0.053610  \n",
      ">50K        0.129473      0.037126          0.042756  , 'relationship': relationship   Husband  Not-in-family  Other-relative  Own-child  Unmarried  \\\n",
      "income                                                                        \n",
      "<=50K         0.297656       0.310848        0.037773   0.189921   0.130645   \n",
      ">50K          0.757421       0.110947        0.004298   0.010074   0.025655   \n",
      "\n",
      "relationship      Wife  \n",
      "income                  \n",
      "<=50K         0.032892  \n",
      ">50K          0.090799  , 'race': race    Amer-Indian-Eskimo  Asian-Pac-Islander     Black     Other     White\n",
      "income                                                                      \n",
      "<=50K             0.010950            0.027046  0.109064  0.008708  0.844012\n",
      ">50K              0.004568            0.030498  0.047561  0.004299  0.912401, 'gender': gender    Female      Male\n",
      "income                    \n",
      "<=50K   0.381868  0.618044\n",
      ">50K    0.150733  0.848998, 'capital-gain': capital-gain     0         114       401       594       914       991    \\\n",
      "income                                                                     \n",
      "<=50K         0.948400  0.000218  0.000131  0.001219  0.000305  0.000087   \n",
      ">50K          0.766202  0.000130  0.000130  0.000130  0.000130  0.000130   \n",
      "\n",
      "capital-gain     1055      1086      1151      1173   ...     15024     15831  \\\n",
      "income                                                ...                       \n",
      "<=50K         0.000958  0.000218  0.000479  0.000087  ...  0.000044  0.000044   \n",
      ">50K          0.000130  0.000130  0.000130  0.000130  ...  0.043030  0.000913   \n",
      "\n",
      "capital-gain     20051     22040     25124     25236     27828     34095  \\\n",
      "income                                                                     \n",
      "<=50K         0.000044  0.000087  0.000044  0.000044  0.000044  0.000218   \n",
      ">50K          0.003260  0.000130  0.000391  0.001174  0.004955  0.000130   \n",
      "\n",
      "capital-gain     41310     99999  \n",
      "income                            \n",
      "<=50K         0.000131  0.000044  \n",
      ">50K          0.000130  0.020211  \n",
      "\n",
      "[2 rows x 118 columns], 'capital-loss': capital-loss      0         213       323       625       653       810   \\\n",
      "income                                                                     \n",
      "<=50K         0.961419  0.000175  0.000175  0.000436  0.000087  0.000131   \n",
      ">50K          0.879349  0.000131  0.000131  0.000131  0.000394  0.000131   \n",
      "\n",
      "capital-loss      880       974       1092      1138  ...      2472      2547  \\\n",
      "income                                                ...                       \n",
      "<=50K         0.000262  0.000131  0.000393  0.000175  ...  0.000044  0.000044   \n",
      ">50K          0.000131  0.000131  0.000131  0.000131  ...  0.000525  0.000525   \n",
      "\n",
      "capital-loss      2559      2603      2824      3004      3175      3683  \\\n",
      "income                                                                     \n",
      "<=50K         0.000044  0.000131  0.000044  0.000044  0.000131  0.000044   \n",
      ">50K          0.001575  0.000131  0.001050  0.000525  0.000131  0.000263   \n",
      "\n",
      "capital-loss      3770      4356  \n",
      "income                            \n",
      "<=50K         0.000218  0.000087  \n",
      ">50K          0.000131  0.000131  \n",
      "\n",
      "[2 rows x 92 columns], 'hours-per-week': hours-per-week        1         2         3         4         5         6   \\\n",
      "income                                                                       \n",
      "<=50K           0.000262  0.000742  0.001004  0.001222  0.001527  0.001876   \n",
      ">50K            0.000394  0.000262  0.000262  0.000525  0.000787  0.000525   \n",
      "\n",
      "hours-per-week        7         8         9         10  ...        88  \\\n",
      "income                                                  ...             \n",
      "<=50K           0.000829  0.004058  0.000698  0.008857  ...  0.000175   \n",
      ">50K            0.000656  0.001312  0.000394  0.001968  ...  0.000131   \n",
      "\n",
      "hours-per-week        89        90        91        92        94        96  \\\n",
      "income                                                                       \n",
      "<=50K           0.000087  0.000654  0.000087  0.000087  0.000087  0.000305   \n",
      ">50K            0.000262  0.001574  0.000131  0.000262  0.000131  0.000131   \n",
      "\n",
      "hours-per-week        97        98        99  \n",
      "income                                        \n",
      "<=50K           0.000087  0.000349  0.002312  \n",
      ">50K            0.000262  0.000262  0.003542  \n",
      "\n",
      "[2 rows x 95 columns], 'native-country': native-country  Cambodia    Canada     China  Columbia      Cuba  \\\n",
      "income                                                             \n",
      "<=50K           0.000614  0.003069  0.002674  0.002148  0.002981   \n",
      ">50K            0.000799  0.006123  0.003461  0.000666  0.002263   \n",
      "\n",
      "native-country  Dominican-Republic   Ecuador  El-Salvador   England    France  \\\n",
      "income                                                                          \n",
      "<=50K                     0.002587  0.001184     0.003814  0.002104  0.000526   \n",
      ">50K                      0.000799  0.000532     0.001065  0.004925  0.001065   \n",
      "\n",
      "native-country  ...  Portugal  Puerto-Rico  Scotland     South    Taiwan  \\\n",
      "income          ...                                                        \n",
      "<=50K           ...  0.001578     0.005173  0.000614  0.002543  0.000833   \n",
      ">50K            ...  0.001597     0.002130  0.000133  0.001730  0.002396   \n",
      "\n",
      "native-country  Thailand  Trinadad&Tobago  United-States   Vietnam  Yugoslavia  \n",
      "income                                                                          \n",
      "<=50K           0.000789         0.000658       0.903591  0.002148    0.000438  \n",
      ">50K            0.000666         0.000266       0.922534  0.000666    0.000799  \n",
      "\n",
      "[2 rows x 40 columns]}\n"
     ]
    }
   ],
   "execution_count": 6
  },
  {
   "metadata": {
    "ExecuteTime": {
     "end_time": "2025-06-28T15:43:26.552961Z",
     "start_time": "2025-06-28T15:43:06.272526Z"
    }
   },
   "cell_type": "code",
   "source": [
    "predictions = []\n",
    "for i, row in x_test.iterrows():\n",
    "    scores = {}\n",
    "    for c in ['<=50K', '>50K']:\n",
    "        log_prob = np.log(probability[c])\n",
    "        for feature in features:\n",
    "            value = row[feature]\n",
    "            prob = all_counts[feature].loc[c].get(value, 1 / (all_counts[feature].loc[c].sum() + all_counts[feature].shape[1]))\n",
    "            log_prob += np.log(prob)\n",
    "        scores[c] = log_prob\n",
    "    predicted_class = max(scores, key=scores.get)\n",
    "    predictions.append(predicted_class)\n",
    "\n",
    "print(\"Accuracy:\", accuracy_score(y_test, predictions))"
   ],
   "id": "6190aef401e0bc08",
   "outputs": [
    {
     "name": "stdout",
     "output_type": "stream",
     "text": [
      "Accuracy: 0.8421646746347942\n"
     ]
    }
   ],
   "execution_count": 7
  }
 ],
 "metadata": {
  "kernelspec": {
   "display_name": "Python 3",
   "language": "python",
   "name": "python3"
  },
  "language_info": {
   "codemirror_mode": {
    "name": "ipython",
    "version": 2
   },
   "file_extension": ".py",
   "mimetype": "text/x-python",
   "name": "python",
   "nbconvert_exporter": "python",
   "pygments_lexer": "ipython2",
   "version": "2.7.6"
  }
 },
 "nbformat": 4,
 "nbformat_minor": 5
}
