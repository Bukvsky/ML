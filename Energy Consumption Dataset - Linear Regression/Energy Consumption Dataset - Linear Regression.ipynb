{
 "cells": [
  {
   "metadata": {},
   "cell_type": "code",
   "outputs": [],
   "execution_count": null,
   "source": [
    "import pandas as pd\n",
    "import numpy as np\n",
    "import matplotlib.pyplot as plt\n",
    "import math as math\n",
    "import kagglehub"
   ],
   "id": "b90e3e4e62527d8"
  },
  {
   "metadata": {},
   "cell_type": "code",
   "outputs": [],
   "execution_count": null,
   "source": [
    "\n",
    "\n",
    "# Download latest version\n",
    "path = kagglehub.dataset_download(\"govindaramsriram/energy-consumption-dataset-linear-regression\")\n",
    "\n",
    "print(\"Path to dataset files:\", path)"
   ],
   "id": "dd7f0ddcb31921a4"
  },
  {
   "metadata": {},
   "cell_type": "code",
   "outputs": [],
   "execution_count": null,
   "source": [
    "test_data = pd.read_csv(path+'//test_energy_data.csv')\n",
    "train_data = pd.read_csv(path+'//train_energy_data.csv')"
   ],
   "id": "5e1531c69acb4c0f"
  }
 ],
 "metadata": {},
 "nbformat": 4,
 "nbformat_minor": 5
}
